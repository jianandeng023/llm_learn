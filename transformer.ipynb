{
 "cells": [
  {
   "cell_type": "code",
   "execution_count": 1,
   "metadata": {},
   "outputs": [],
   "source": [
    "import torch\n",
    "import torch.nn as nn\n",
    "import torch.nn.functional as F\n",
    "\n",
    "class SelfAttention(nn.Module):\n",
    "    def __init__(self, embed_size):\n",
    "        super(SelfAttention, self).__init__()\n",
    "        self.embed_size = embed_size\n",
    "\n",
    "        self.query = nn.Linear(embed_size, embed_size)\n",
    "        self.key = nn.Linear(embed_size, embed_size)\n",
    "        self.value = nn.Linear(embed_size, embed_size)\n",
    "\n",
    "    def forward(self, x):\n",
    "        Q = self.query(x) # (batch_size, seq_length, embed_size)\n",
    "        K = self.key(x)\n",
    "        V = self.value(x)\n",
    "\n",
    "        attention_scores = torch.matmul(Q, K.transpose(-2, -1)) / (self.embed_size ** 0.5)\n",
    "        attention_weights = F.softmax(attention_scores, dim=-1)\n",
    "        output = torch.matmul(attention_weights, V)\n",
    "        return output\n"
   ]
  },
  {
   "cell_type": "code",
   "execution_count": 2,
   "metadata": {},
   "outputs": [
    {
     "name": "stdout",
     "output_type": "stream",
     "text": [
      "输入形状： torch.Size([5, 10, 128])\n",
      "输出形状: torch.Size([5, 10, 128])\n"
     ]
    }
   ],
   "source": [
    "# 测试self attention\n",
    "batch_size = 5\n",
    "seq_len = 10\n",
    "embed_size = 128\n",
    "\n",
    "# 创建输入数据\n",
    "x = torch.randn(batch_size, seq_len, embed_size)\n",
    "\n",
    "# 初始化自注意力层\n",
    "self_attention = SelfAttention(embed_size=embed_size)\n",
    "\n",
    "output = self_attention(x)\n",
    "\n",
    "print(f'输入形状：', x.shape)\n",
    "print(f'输出形状:', output.shape)"
   ]
  },
  {
   "cell_type": "code",
   "execution_count": 3,
   "metadata": {},
   "outputs": [],
   "source": [
    "# 多头注意力机制\n",
    "class MultiHeadAttention(nn.Module):\n",
    "    def __init__(self, embed_size, num_heads):\n",
    "        super(MultiHeadAttention, self).__init__()\n",
    "        self.embed_size = embed_size\n",
    "        self.num_heads = num_heads\n",
    "        self.head_dim = embed_size // num_heads\n",
    "        \n",
    "        # 线性层变化 \n",
    "        self.query = nn.Linear(embed_size, embed_size)\n",
    "        self.key = nn.Linear(embed_size, embed_size)\n",
    "        self.value = nn.Linear(embed_size, embed_size)\n",
    "\n",
    "        self.combine_heads = nn.Linear(embed_size, embed_size)\n",
    "    \n",
    "    def forward(self, q, k, v):\n",
    "        batch_size, seq_len, embed_size = q.shape\n",
    "        head_dim = self.head_dim\n",
    "        q, k, v = self.query(q), self.key(k), self.value(v)\n",
    "        \n",
    "        q = q.view(batch_size, seq_len, self.num_heads, head_dim).transpose(1, 2)\n",
    "        k = k.view(batch_size, seq_len, self.num_heads, head_dim).transpose(1, 2)\n",
    "        v = v.view(batch_size, seq_len, self.num_heads, head_dim).transpose(1, 2)\n",
    "\n",
    "        # 计算注意力权重\n",
    "        attention_scores = torch.matmul(q, k.transpose(-2, -1)) / (self.head_dim ** 0.5)\n",
    "        attention_weights = F.softmax(attention_scores, dim=-1)\n",
    "        attention_output = torch.matmul(attention_weights, v) # attention_output @ v\n",
    "        \n",
    "        # 合并多头\n",
    "        attention_output = attention_output.permute(0, 2, 1, 3).contiguous().view(batch_size, seq_len, embed_size)\n",
    "        output = self.combine_heads(attention_output)\n",
    "        return output\n"
   ]
  },
  {
   "cell_type": "code",
   "execution_count": 4,
   "metadata": {},
   "outputs": [
    {
     "name": "stdout",
     "output_type": "stream",
     "text": [
      "输入形状： torch.Size([5, 10, 128])\n",
      "输出形状: torch.Size([5, 10, 128])\n"
     ]
    }
   ],
   "source": [
    "# 测试多头注意力\n",
    "batch_size = 5\n",
    "seq_len = 10\n",
    "embed_size = 128\n",
    "num_heads = 4\n",
    "\n",
    "x = torch.randn(batch_size, seq_len, embed_size)\n",
    "\n",
    "multi_head_attention = MultiHeadAttention(embed_size=embed_size, num_heads=num_heads)\n",
    "\n",
    "output = multi_head_attention(x, x, x)\n",
    "\n",
    "print(f'输入形状：', x.shape)\n",
    "print(f'输出形状:', output.shape)\n"
   ]
  },
  {
   "cell_type": "code",
   "execution_count": null,
   "metadata": {},
   "outputs": [
    {
     "name": "stdout",
     "output_type": "stream",
     "text": [
      "输入形状： torch.Size([1, 10, 128])\n",
      "输出形状: torch.Size([1, 10, 128])\n"
     ]
    }
   ],
   "source": [
    "# 位置编码\n",
    "class PositionalEncoding(nn.Module):\n",
    "    def __init__(self, embed_size, dropout, max_len=5000):\n",
    "        super(PositionalEncoding, self).__init__()\n",
    "        self.dropout = nn.Dropout(p=dropout)\n",
    "\n",
    "        # 计算位置编码\n",
    "        pe = torch.zeros(max_len, embed_size)\n",
    "        position = torch.arange(0, max_len, dtype=torch.float).unsqueeze(1)\n",
    "        div_term = torch.exp(torch.arange(0, embed_size, 2).float() * (-torch.log(torch.tensor(10000.0)) / embed_size)) # 对应论文缩减因子 1/10000^(2i/d)\n",
    "        pe[:, 0::2] = torch.sin(position * div_term) # 对应论文公式 sin(pos/10000^(2i/d))\n",
    "        pe[:, 1::2] = torch.cos(position * div_term) # 对应论文公式 cos(pos/10000^(2i/d))\n",
    "        pe = pe.unsqueeze(0) # [1, max_len, embed_size]\n",
    "        self.register_buffer('pe', pe)\n",
    "    \n",
    "    def forward(self, x):\n",
    "        return x + self.pe[:, :x.size(1), :]\n",
    "\n",
    "# 测试位置编码\n",
    "embed_size = 128\n",
    "dropout = 0.1\n",
    "max_len = 100\n",
    "batch_size = 2\n",
    "seq_len = 10\n",
    "\n",
    "x = torch.randn(batch_size, seq_len, embed_size)\n",
    "\n",
    "positional_encoding = PositionalEncoding(embed_size=embed_size, dropout=dropout, max_len=max_len)\n",
    "\n",
    "output = positional_encoding(x)\n",
    "\n",
    "print(f'输入形状：', x.shape)\n",
    "print(f'输出形状:', output.shape)\n"
   ]
  },
  {
   "cell_type": "code",
   "execution_count": 12,
   "metadata": {},
   "outputs": [],
   "source": [
    "# 旋转位置编码代码实现(RoPE)\n",
    "from typing import Tuple\n",
    "def precompute_freqs_cis(dim: int, seq_len: int, theta: float = 10000.0):\n",
    "    # 计算词向量元素两两之间，每组元素对应的旋转角度\n",
    "    # 1. 计算旋转角度 theta_j = 1/(10000)^(2(j-1) / d)\n",
    "    freqs = 1.0 / (theta ** (torch.arange(0, dim, 2)[:(dim // 2)].float() / dim)) \n",
    "    # 2. 生成token序列索引t = [0, 1, ..., seq_len-1]\n",
    "    t = torch.arange(seq_len, device=freqs.device)\n",
    "    freqs = torch.outer(t, freqs).float()\n",
    "\n",
    "    # \n",
    "    freqs_cis = torch.polar(torch.ones_like(freqs), freqs)\n",
    "    return freqs_cis\n",
    "\n",
    "def apply_rotary_emb(\n",
    "        xq:torch.Tensor,\n",
    "        xk:torch.Tensor,\n",
    "        freqs_cis:torch.Tensor,\n",
    ") -> Tuple[torch.Tensor, torch.Tensor]:\n",
    "    xq_ = xq.float().reshape(*xq.shape[:-1], -1, 2)\n",
    "    xk_ = xk.float().reshape(*xk.shape[:-1], -1, 2)\n",
    "    # 转为复数域\n",
    "    xq_ = torch.view_as_complex(xq_)\n",
    "    xk_ = torch.view_as_complex(xk_)\n",
    "    \n",
    "    # 应用旋转操作，然后将结果转回实数域\n",
    "    # xq_out.shape = [batch_size, seq_len, dim]\n",
    "    xq_out = torch.view_as_real(xq_ * freqs_cis).flatten(2)\n",
    "    xk_out = torch.view_as_real(xk_ * freqs_cis).flatten(2)\n",
    "    return xq_out.type_as(xq), xk_out.type_as(xk)\n",
    "    \n"
   ]
  }
 ],
 "metadata": {
  "kernelspec": {
   "display_name": "learn_llm",
   "language": "python",
   "name": "python3"
  },
  "language_info": {
   "codemirror_mode": {
    "name": "ipython",
    "version": 3
   },
   "file_extension": ".py",
   "mimetype": "text/x-python",
   "name": "python",
   "nbconvert_exporter": "python",
   "pygments_lexer": "ipython3",
   "version": "3.9.21"
  }
 },
 "nbformat": 4,
 "nbformat_minor": 2
}
